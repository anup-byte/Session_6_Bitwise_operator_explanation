{
 "cells": [
  {
   "cell_type": "markdown",
   "metadata": {},
   "source": [
    "# Operators"
   ]
  },
  {
   "cell_type": "markdown",
   "metadata": {},
   "source": [
    "Operators are special symbols in Python that carry out arithmetic or logical computation. The value that the operator operates on is called the operand."
   ]
  },
  {
   "cell_type": "markdown",
   "metadata": {},
   "source": [
    "# Operator Types"
   ]
  },
  {
   "cell_type": "markdown",
   "metadata": {},
   "source": [
    "1. Arithmetic operators\n",
    "    \n",
    "2. Comparison (Relational) operators\n",
    "\n",
    "3. Logical (Boolean) operators\n",
    "\n",
    "4. Bitwise operators\n",
    "\n",
    "5. Assignment operators\n",
    "\n",
    "6. Special operators"
   ]
  },
  {
   "cell_type": "markdown",
   "metadata": {},
   "source": [
    "# Arithmetic Operators"
   ]
  },
  {
   "cell_type": "markdown",
   "metadata": {},
   "source": [
    "Arithmetic operators are used to perform mathematical operations like addition, subtraction, multiplication etc."
   ]
  },
  {
   "cell_type": "markdown",
   "metadata": {},
   "source": [
    "    + , -, *, /, %, //, **  are arithmetic operators"
   ]
  },
  {
   "cell_type": "markdown",
   "metadata": {},
   "source": [
    "Example:"
   ]
  },
  {
   "cell_type": "code",
   "execution_count": 4,
   "metadata": {},
   "outputs": [
    {
     "name": "stdout",
     "output_type": "stream",
     "text": [
      "30\n",
      "-10\n",
      "200\n",
      "0.5\n",
      "10\n",
      "0\n",
      "100000000000000000000\n"
     ]
    }
   ],
   "source": [
    "x, y = 10, 20\n",
    "\n",
    "#addition\n",
    "print(x + y)\n",
    "\n",
    "#subtraction(-)\n",
    "print(x - y)\n",
    "\n",
    "#multiplication(*)\n",
    "print(x * y)\n",
    "\n",
    "#division(/)\n",
    "print(x / y)\n",
    "\n",
    "#modulo division (%)\n",
    "print(x % y)\n",
    "\n",
    "#Floor Division (//)\n",
    "print(x // y)\n",
    "\n",
    "#Exponent (**)\n",
    "print(x ** y)"
   ]
  },
  {
   "cell_type": "code",
   "execution_count": 5,
   "metadata": {},
   "outputs": [
    {
     "data": {
      "text/plain": [
       "2"
      ]
     },
     "execution_count": 5,
     "metadata": {},
     "output_type": "execute_result"
    }
   ],
   "source": [
    "5 // 2"
   ]
  },
  {
   "cell_type": "code",
   "execution_count": 6,
   "metadata": {},
   "outputs": [
    {
     "data": {
      "text/plain": [
       "5"
      ]
     },
     "execution_count": 6,
     "metadata": {},
     "output_type": "execute_result"
    }
   ],
   "source": [
    "10 // 2"
   ]
  },
  {
   "cell_type": "code",
   "execution_count": 7,
   "metadata": {},
   "outputs": [
    {
     "data": {
      "text/plain": [
       "2"
      ]
     },
     "execution_count": 7,
     "metadata": {},
     "output_type": "execute_result"
    }
   ],
   "source": [
    "12 // 5"
   ]
  },
  {
   "cell_type": "code",
   "execution_count": 8,
   "metadata": {},
   "outputs": [
    {
     "data": {
      "text/plain": [
       "2"
      ]
     },
     "execution_count": 8,
     "metadata": {},
     "output_type": "execute_result"
    }
   ],
   "source": [
    "15 // 7"
   ]
  },
  {
   "cell_type": "code",
   "execution_count": 9,
   "metadata": {},
   "outputs": [
    {
     "data": {
      "text/plain": [
       "2"
      ]
     },
     "execution_count": 9,
     "metadata": {},
     "output_type": "execute_result"
    }
   ],
   "source": [
    "50 // 20"
   ]
  },
  {
   "cell_type": "code",
   "execution_count": 10,
   "metadata": {},
   "outputs": [
    {
     "data": {
      "text/plain": [
       "0"
      ]
     },
     "execution_count": 10,
     "metadata": {},
     "output_type": "execute_result"
    }
   ],
   "source": [
    "10 // 20"
   ]
  },
  {
   "cell_type": "markdown",
   "metadata": {},
   "source": [
    "# Comparision Operators"
   ]
  },
  {
   "cell_type": "markdown",
   "metadata": {},
   "source": [
    "Comparison operators are used to compare values. It either returns True or False according to the condition."
   ]
  },
  {
   "cell_type": "markdown",
   "metadata": {},
   "source": [
    "    >, <, ==, !=, >=, <= are comparision operators"
   ]
  },
  {
   "cell_type": "code",
   "execution_count": 11,
   "metadata": {},
   "outputs": [
    {
     "name": "stdout",
     "output_type": "stream",
     "text": [
      "True\n",
      "False\n",
      "False\n",
      "True\n",
      "False\n",
      "True\n"
     ]
    }
   ],
   "source": [
    "a, b = 10, 20         \n",
    "\n",
    "print(a < b)  #check a is less than b\n",
    "\n",
    "#check a is greater than b\n",
    "\n",
    "print(a > b)\n",
    "\n",
    "#check a is equal to b\n",
    "\n",
    "print(a == b)\n",
    "\n",
    "#check a is not equal to b (!=)\n",
    "\n",
    "print(a != b)\n",
    "\n",
    "#check a greater than or equal to b\n",
    "\n",
    "print(a >= b)\n",
    "\n",
    "#check a less than or equal to b\n",
    "\n",
    "print(a <= b)\n"
   ]
  },
  {
   "cell_type": "markdown",
   "metadata": {},
   "source": [
    "# Logical Operators"
   ]
  },
  {
   "cell_type": "markdown",
   "metadata": {},
   "source": [
    "Logical operators are  **and, or, not** operators."
   ]
  },
  {
   "cell_type": "code",
   "execution_count": 12,
   "metadata": {},
   "outputs": [
    {
     "name": "stdout",
     "output_type": "stream",
     "text": [
      "False\n",
      "True\n",
      "True\n",
      "False\n"
     ]
    }
   ],
   "source": [
    "a, b = True, False\n",
    "\n",
    "#print a and b\n",
    "print(a and b)\n",
    "\n",
    "#print a or b\n",
    "\n",
    "print(a or b)\n",
    "\n",
    "#print not b\n",
    "\n",
    "print(not b)\n",
    "\n",
    "print(not a)\n"
   ]
  },
  {
   "cell_type": "markdown",
   "metadata": {},
   "source": [
    "# Bitwise operators"
   ]
  },
  {
   "cell_type": "markdown",
   "metadata": {},
   "source": [
    "Bitwise operators act on operands as if they were string of binary digits. It operates bit by bit"
   ]
  },
  {
   "cell_type": "markdown",
   "metadata": {},
   "source": [
    "    &,  |,  ~,  ^,  >>,  << are Bitwise operators"
   ]
  },
  {
   "cell_type": "code",
   "execution_count": 15,
   "metadata": {},
   "outputs": [
    {
     "name": "stdout",
     "output_type": "stream",
     "text": [
      "0\n",
      "10\n",
      "0\n",
      "160\n"
     ]
    }
   ],
   "source": [
    "a, b = 10, 4\n",
    "\n",
    "#Bitwise AND\n",
    "print(a & b)\n",
    "\n",
    "#Bitwise OR\n",
    "print(a or b)\n",
    "\n",
    "#Bitwise NOT\n",
    "#print(a ~ b)\n",
    "\n",
    "\n",
    "#Bitwise XOR\n",
    "#print(a )\n",
    "\n",
    "\n",
    "#Bitwise rightshift\n",
    "print( a >> b)\n",
    "\n",
    "\n",
    "\n",
    "#Bitwise Leftshift\n",
    "print(a << b)\n"
   ]
  },
  {
   "cell_type": "code",
   "execution_count": null,
   "metadata": {},
   "outputs": [],
   "source": [
    "a = 10 = 1010 (Binary)\n",
    "b = 4 = 0100 (Binary)\n",
    "\n",
    "a & b = 1010\n",
    "         &\n",
    "        0100\n",
    "      = 0000\n",
    "      = 0 (Decimal)"
   ]
  },
  {
   "cell_type": "code",
   "execution_count": null,
   "metadata": {},
   "outputs": [],
   "source": [
    "a = 10 = 1010 (Binary)\n",
    "b = 4 =  0100 (Binary)\n",
    "\n",
    "a | b = 1010\n",
    "         |\n",
    "        0100\n",
    "      = 1110\n",
    "      = 14 (Decimal)"
   ]
  },
  {
   "cell_type": "code",
   "execution_count": null,
   "metadata": {},
   "outputs": [],
   "source": [
    "a = 10 = 1010 (Binary)\n",
    "b = 4 =  0100 (Binary)\n",
    "\n",
    "a ^ b = 1010\n",
    "         ^\n",
    "        0100\n",
    "      = 1110\n",
    "      = 14 (Decimal)"
   ]
  },
  {
   "cell_type": "code",
   "execution_count": null,
   "metadata": {},
   "outputs": [],
   "source": [
    "# Python program to show\n",
    "# bitwise operators\n",
    " \n",
    "a = 10\n",
    "b = 4\n",
    " \n",
    "# Print bitwise AND operation\n",
    "print(\"a & b =\", a & b)\n",
    " \n",
    "# Print bitwise OR operation\n",
    "print(\"a | b =\", a | b)\n",
    " \n",
    "# Print bitwise NOT operation\n",
    "print(\"~a =\", ~a)\n",
    " \n",
    "# print bitwise XOR operation\n",
    "print(\"a ^ b =\", a ^ b)"
   ]
  },
  {
   "cell_type": "code",
   "execution_count": null,
   "metadata": {},
   "outputs": [],
   "source": [
    "Example 1:\n",
    "a = 10 = 0000 1010 (Binary)\n",
    "a >> 1 = 0000 0101 = 5\n",
    "\n",
    "Example 2:\n",
    "a = -10 = 1111 0110 (Binary)\n",
    "a >> 1 = 1111 1011 = -5 "
   ]
  },
  {
   "cell_type": "code",
   "execution_count": null,
   "metadata": {},
   "outputs": [],
   "source": [
    "Example 1:\n",
    "a = 5 = 0000 0101 (Binary)\n",
    "a << 1 = 0000 1010 = 10\n",
    "a << 2 = 0001 0100 = 20 \n",
    "\n",
    "Example 2:\n",
    "b = -10 = 1111 0110 (Binary)\n",
    "b << 1 = 1110 1100 = -20\n",
    "b << 2 = 1101 1000 = -40 \n"
   ]
  },
  {
   "cell_type": "code",
   "execution_count": null,
   "metadata": {},
   "outputs": [],
   "source": [
    "# Python program to show\n",
    "# shift operators\n",
    " \n",
    "a = 10\n",
    "b = -10\n",
    " \n",
    "# print bitwise right shift operator\n",
    "print(\"a >> 1 =\", a >> 1)\n",
    "print(\"b >> 1 =\", b >> 1)\n",
    " \n",
    "a = 5\n",
    "b = -10\n",
    " \n",
    "# print bitwise left shift operator\n",
    "print(\"a << 1 =\", a << 1)\n",
    "print(\"b << 1 =\", b << 1)"
   ]
  },
  {
   "cell_type": "markdown",
   "metadata": {},
   "source": [
    "Shift Operators\n",
    "These operators are used to shift the bits of a number left or right thereby multiplying or dividing the number by two respectively. They can be used when we have to multiply or divide a number by two. \n",
    "Bitwise right shift: Shifts the bits of the number to the right and fills 0 on voids left( fills 1 in the case of a negative number) as a result. Similar effect as of dividing the number with some power of two."
   ]
  },
  {
   "cell_type": "markdown",
   "metadata": {},
   "source": [
    "# Assignment operators"
   ]
  },
  {
   "cell_type": "markdown",
   "metadata": {},
   "source": [
    "Assignment operators are used in Python to assign values to variables.\n",
    "\n",
    "a = 5 is a simple assignment operator that assigns the value 5 on the right to the variable a on the left."
   ]
  },
  {
   "cell_type": "markdown",
   "metadata": {},
   "source": [
    "    =,  +=,  -=,  *=,  /=,  %=,  //=,  **=, &=,  |=,  ^=,  >>=,  <<= are Assignment operators"
   ]
  },
  {
   "cell_type": "code",
   "execution_count": null,
   "metadata": {},
   "outputs": [],
   "source": [
    "a = 10\n",
    "\n",
    "a += 10         #add AND  a = a + 10\n",
    "print(a)\n",
    "\n",
    "#subtract AND (-=) a = a - 10\n",
    "\n",
    "#Multiply AND (*=) a = a * 10\n",
    "\n",
    "#Divide AND (/=) \n",
    "\n",
    "#Modulus AND (%=)\n",
    "\n",
    "#Floor Division (//=)\n",
    "\n",
    "#Exponent AND (**=)\n"
   ]
  },
  {
   "cell_type": "code",
   "execution_count": 20,
   "metadata": {},
   "outputs": [],
   "source": [
    "c = 20"
   ]
  },
  {
   "cell_type": "code",
   "execution_count": 21,
   "metadata": {},
   "outputs": [
    {
     "name": "stdout",
     "output_type": "stream",
     "text": [
      "30\n"
     ]
    }
   ],
   "source": [
    "c = c + 10 # c += 10\n",
    "print(c)"
   ]
  },
  {
   "cell_type": "markdown",
   "metadata": {},
   "source": [
    "# Identity Operators"
   ]
  },
  {
   "cell_type": "markdown",
   "metadata": {},
   "source": [
    "**is and is not** are the identity operators in Python. \n",
    "\n",
    "They are used to check if two values (or variables) are located on the same part of the memory."
   ]
  },
  {
   "cell_type": "code",
   "execution_count": 23,
   "metadata": {},
   "outputs": [
    {
     "name": "stdout",
     "output_type": "stream",
     "text": [
      "False\n",
      "True\n"
     ]
    }
   ],
   "source": [
    "a = 5\n",
    "b = 10\n",
    "print(a is b)#5 is object created once both a and b points to same object\n",
    "\n",
    "print(a is not b)\n",
    "#check is not"
   ]
  },
  {
   "cell_type": "code",
   "execution_count": 24,
   "metadata": {},
   "outputs": [
    {
     "name": "stdout",
     "output_type": "stream",
     "text": [
      "False\n"
     ]
    }
   ],
   "source": [
    "l1 = [1, 2, 3]\n",
    "l2 = [1, 6, 3]\n",
    "print(l1 is l2)"
   ]
  },
  {
   "cell_type": "code",
   "execution_count": 25,
   "metadata": {},
   "outputs": [
    {
     "name": "stdout",
     "output_type": "stream",
     "text": [
      "False\n"
     ]
    }
   ],
   "source": [
    "s1 = \"Satish\"\n",
    "s2 = \"Satish\"\n",
    "print(s1 is not s2)"
   ]
  },
  {
   "cell_type": "markdown",
   "metadata": {},
   "source": [
    "# MemberShip Operators"
   ]
  },
  {
   "cell_type": "markdown",
   "metadata": {},
   "source": [
    "**in and not in** are the membership operators in Python. \n",
    "    \n",
    "They are used to test whether a value or variable is found in a sequence (string, list, tuple, set and   dictionary)."
   ]
  },
  {
   "cell_type": "code",
   "execution_count": 28,
   "metadata": {},
   "outputs": [
    {
     "name": "stdout",
     "output_type": "stream",
     "text": [
      "True\n",
      "False\n",
      "True\n"
     ]
    }
   ],
   "source": [
    "lst = [1, 2, 3, 4]\n",
    "print(1 in lst)\n",
    "\n",
    "print(6 in lst)\n",
    "print(5 not in lst)\n",
    "#check 1 is present in a given list or not\n",
    "\n",
    "#check 5 is present in a given list\n"
   ]
  },
  {
   "cell_type": "code",
   "execution_count": 29,
   "metadata": {},
   "outputs": [
    {
     "name": "stdout",
     "output_type": "stream",
     "text": [
      "True\n"
     ]
    }
   ],
   "source": [
    "d = {1: \"a\", 2: \"b\"}\n",
    "print(1 in d)"
   ]
  }
 ],
 "metadata": {
  "kernelspec": {
   "display_name": "Python 3 (ipykernel)",
   "language": "python",
   "name": "python3"
  },
  "language_info": {
   "codemirror_mode": {
    "name": "ipython",
    "version": 3
   },
   "file_extension": ".py",
   "mimetype": "text/x-python",
   "name": "python",
   "nbconvert_exporter": "python",
   "pygments_lexer": "ipython3",
   "version": "3.11.4"
  }
 },
 "nbformat": 4,
 "nbformat_minor": 2
}
